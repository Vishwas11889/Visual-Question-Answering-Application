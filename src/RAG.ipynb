{
 "cells": [
  {
   "cell_type": "markdown",
   "metadata": {},
   "source": [
    "Import the dependencies\n"
   ]
  },
  {
   "cell_type": "code",
   "execution_count": 16,
   "metadata": {},
   "outputs": [],
   "source": [
    "import fitz  # PyMuPDF\n",
    "import base64\n",
    "import requests\n",
    "import os\n",
    "import glob\n",
    "import json\n",
    "from langchain import PromptTemplate\n",
    "from langchain.text_splitter import RecursiveCharacterTextSplitter\n",
    "from langchain.chains.combine_documents import create_stuff_documents_chain\n",
    "from langchain_core.prompts import ChatPromptTemplate\n",
    "from langchain.chains import create_retrieval_chain\n",
    "from langchain_community.vectorstores import FAISS\n",
    "from langchain.docstore.document import Document\n",
    "from langchain_openai import ChatOpenAI\n",
    "from langchain_core.output_parsers import StrOutputParser\n",
    "from langchain_core.prompts import ChatPromptTemplate\n",
    "from langchain.chains import RetrievalQA\n",
    "from langchain_openai import OpenAIEmbeddings"
   ]
  },
  {
   "cell_type": "markdown",
   "metadata": {},
   "source": [
    "Configurations of data and OpenAI\n"
   ]
  },
  {
   "cell_type": "code",
   "execution_count": 17,
   "metadata": {},
   "outputs": [],
   "source": [
    "\n",
    "#Please change the path of pdfs to be used for ingestion\n",
    "pdf_directory = r'C:\\Users\\User\\saf\\data'\n",
    "api_key = ''\n",
    "os.environ[\"OPENAI_API_KEY\"] = api_key"
   ]
  },
  {
   "cell_type": "markdown",
   "metadata": {},
   "source": [
    "Converting images to create summaries\n"
   ]
  },
  {
   "cell_type": "code",
   "execution_count": 18,
   "metadata": {},
   "outputs": [],
   "source": [
    "# converting images to base64 encode\n",
    "def encode_image(image_path):\n",
    "    with open(image_path, \"rb\") as image_file:\n",
    "        return base64.b64encode(image_file.read()).decode('utf-8')\n",
    "\n",
    "# Function to analyze image using OpenAI API\n",
    "def analyze_image(image_path):\n",
    "    base64_image = encode_image(image_path)\n",
    "    headers = {\n",
    "        \"Content-Type\": \"application/json\",\n",
    "        \"Authorization\": f\"Bearer {api_key}\"\n",
    "    }\n",
    "    payload = {\n",
    "        \"model\": \"gpt-4o\",\n",
    "        \"messages\": [\n",
    "            {\n",
    "                \"role\": \"user\",\n",
    "                \"content\": [\n",
    "                    {\"type\": \"text\", \"text\": \"You are provided with an image containing technical mechanical drawings. Your task is to analyze and summarize the details presented in the drawing with a focus on key features, dimensions, and any annotations or instructions\"},\n",
    "                    {\"type\": \"image_url\", \"image_url\": {\"url\": f\"data:image/png;base64,{base64_image}\"}}\n",
    "                ]\n",
    "            }\n",
    "        ],\n",
    "        \"max_tokens\": 1000\n",
    "    }\n",
    "    response = requests.post(\"https://api.openai.com/v1/chat/completions\", headers=headers, json=payload)\n",
    "    data = response.json()\n",
    "    return data['choices'][0]['message']['content']\n"
   ]
  },
  {
   "cell_type": "markdown",
   "metadata": {},
   "source": []
  },
  {
   "cell_type": "code",
   "execution_count": 19,
   "metadata": {},
   "outputs": [],
   "source": [
    "pdf_files = glob.glob(os.path.join(pdf_directory, \"*.pdf\"))\n",
    "all_summaries = \"\""
   ]
  },
  {
   "cell_type": "code",
   "execution_count": 20,
   "metadata": {},
   "outputs": [
    {
     "name": "stdout",
     "output_type": "stream",
     "text": [
      "Processing PDF: C:\\Users\\User\\saf\\data\\Coding_challenge_source_1.pdf\n",
      "Analyzed Coding_challenge_source_1.pdf - page 1\n",
      "Processing PDF: C:\\Users\\User\\saf\\data\\Coding_challenge_source_2.pdf\n",
      "Analyzed Coding_challenge_source_2.pdf - page 1\n"
     ]
    }
   ],
   "source": [
    "\n",
    "for pdf_path in pdf_files:\n",
    "    print(f\"Processing PDF: {pdf_path}\")\n",
    "    pdf_document = fitz.open(pdf_path)\n",
    "\n",
    "    for page_number in range(len(pdf_document)):\n",
    "        page = pdf_document.load_page(page_number)\n",
    "        pix = page.get_pixmap()\n",
    "        image_path = f'temp_page_{page_number + 1}.png'\n",
    "        pix.save(image_path)\n",
    "\n",
    "        content = analyze_image(image_path)\n",
    "        all_summaries += f\"Summary for {os.path.basename(pdf_path)} - page {page_number + 1}:\\n{content}\\n{'='*50}\\n\"\n",
    "        print(f\"Analyzed {os.path.basename(pdf_path)} - page {page_number + 1}\")\n",
    "        os.remove(image_path)\n",
    "\n",
    "    pdf_document.close()"
   ]
  },
  {
   "cell_type": "markdown",
   "metadata": {},
   "source": [
    "Chunking and embeddings\n"
   ]
  },
  {
   "cell_type": "code",
   "execution_count": 21,
   "metadata": {},
   "outputs": [],
   "source": [
    "\n",
    "# Split text into documents\n",
    "text_splitter = RecursiveCharacterTextSplitter(chunk_size=500, chunk_overlap=20)\n",
    "final_documents = text_splitter.create_documents([all_summaries])\n",
    "\n",
    "# Generate embeddings\n",
    "embeddings = OpenAIEmbeddings(model=\"text-embedding-3-large\")\n",
    "vectors = FAISS.from_documents(final_documents, embeddings)\n"
   ]
  },
  {
   "cell_type": "code",
   "execution_count": 22,
   "metadata": {},
   "outputs": [],
   "source": [
    "# Setup and execute the QA chain\n",
    "llm = ChatOpenAI(model=\"gpt-4o\")\n",
    "qa_prompt = ChatPromptTemplate.from_template(\"\"\"\n",
    "    Answer the questions based on the provided context only.\n",
    "    Please provide the most accurate response based on the question.\n",
    "    <context>\n",
    "    {context}\n",
    "    <context>\n",
    "    Questions: {input}\n",
    "\"\"\")\n",
    "document_chain = create_stuff_documents_chain(llm, qa_prompt)\n",
    "retriever = vectors.as_retriever()\n",
    "retrieval_chain = create_retrieval_chain(retriever, document_chain)"
   ]
  },
  {
   "cell_type": "code",
   "execution_count": 23,
   "metadata": {},
   "outputs": [
    {
     "name": "stdout",
     "output_type": "stream",
     "text": [
      "Based on the provided context, the instructions refer to the guidelines included in the technical drawing that guide the user through the process of constructing or modeling a mechanical component. These instructions ensure consistency in file handling and tool usage, and emphasize the importance of accurate dimensioning, radii, angles, and sectional views to achieve precise manufacturing or modeling.\n"
     ]
    }
   ],
   "source": [
    "response = retrieval_chain.invoke({'input': \"what are instructions\"})\n",
    "answer = response['answer']\n",
    "print(answer)"
   ]
  },
  {
   "cell_type": "code",
   "execution_count": 24,
   "metadata": {},
   "outputs": [
    {
     "name": "stdout",
     "output_type": "stream",
     "text": [
      "The provided context discusses a detailed analysis of technical drawings and instructions for creating a mechanical part. Here’s a breakdown of the key points:\n",
      "\n",
      "1. **Overall Analysis**:\n",
      "   - The technical drawing includes multiple views and detailed dimensions of a mechanical part.\n",
      "   - It provides clear and precise information for creating an accurate 3D model of the part using CATIA V5.\n",
      "   - Critical dimensions and features are well-defined for engineering purposes.\n",
      "\n",
      "2. **Conclusion**:\n",
      "   - The drawing contains comprehensive specifications necessary for constructing or modeling the mechanical component.\n",
      "   - It emphasizes dimensioning, radii, angles, and sectional views to ensure precision in manufacturing or modeling.\n",
      "   - Instructions are included to guide the user through the process, promoting consistency in file handling and tool usage.\n",
      "\n",
      "3. **Summary for Coding_challenge_source_1.pdf - page 1**:\n",
      "   - The image is a detailed technical drawing showcasing multiple views and sectional details of a mechanical component.\n",
      "   - General notes indicate that all dimensions are in millimeters (mm).\n",
      "   - Nominal dimensions should be considered for modeling.\n",
      "\n",
      "In summary, the provided technical drawings and instructions are designed to facilitate the accurate and precise creation of a mechanical part, with a particular focus on ensuring consistency and precision in the modeling process using CATIA V5.\n"
     ]
    }
   ],
   "source": [
    "query = input('enter your query')\n",
    "response = retrieval_chain.invoke({'input': query})\n",
    "answer = response['answer']\n",
    "print(answer)"
   ]
  },
  {
   "cell_type": "code",
   "execution_count": null,
   "metadata": {},
   "outputs": [],
   "source": []
  }
 ],
 "metadata": {
  "kernelspec": {
   "display_name": "env7",
   "language": "python",
   "name": "python3"
  },
  "language_info": {
   "codemirror_mode": {
    "name": "ipython",
    "version": 3
   },
   "file_extension": ".py",
   "mimetype": "text/x-python",
   "name": "python",
   "nbconvert_exporter": "python",
   "pygments_lexer": "ipython3",
   "version": "3.11.5"
  }
 },
 "nbformat": 4,
 "nbformat_minor": 2
}
